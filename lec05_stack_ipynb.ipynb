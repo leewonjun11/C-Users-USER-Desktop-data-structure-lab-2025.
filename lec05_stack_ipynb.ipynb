{
  "nbformat": 4,
  "nbformat_minor": 0,
  "metadata": {
    "colab": {
      "provenance": [],
      "authorship_tag": "ABX9TyO8B7Zc12+1i4fpO74c2lHt",
      "include_colab_link": true
    },
    "kernelspec": {
      "name": "python3",
      "display_name": "Python 3"
    },
    "language_info": {
      "name": "python"
    }
  },
  "cells": [
    {
      "cell_type": "markdown",
      "metadata": {
        "id": "view-in-github",
        "colab_type": "text"
      },
      "source": [
        "<a href=\"https://colab.research.google.com/github/leewonjun11/C-Users-USER-Desktop-data-structure-lab-2025./blob/master/lec05_stack_ipynb.ipynb\" target=\"_parent\"><img src=\"https://colab.research.google.com/assets/colab-badge.svg\" alt=\"Open In Colab\"/></a>"
      ]
    },
    {
      "cell_type": "code",
      "execution_count": 10,
      "metadata": {
        "id": "KVC5zrW-1KQY"
      },
      "outputs": [],
      "source": [
        "class Stack:\n",
        "  def __init__(self):\n",
        "    self.items=[]\n",
        "\n",
        "  def is_empty(self):\n",
        "    return self.items ==[]\n",
        "\n",
        "  def push(self, item):\n",
        "    self.items.append(item)\n",
        "\n",
        "  def pop(self):\n",
        "    return self.items.pop()\n",
        "\n",
        "  def peek(self):\n",
        "    return self.items[len(self.items)-1]\n",
        "\n",
        "  def size(self):\n",
        "    return len(self.items)\n",
        "\n",
        "  def pop_all(self):\n",
        "    self.items.clear()\n",
        "\n",
        "\n",
        ""
      ]
    },
    {
      "cell_type": "code",
      "source": [
        "from google.colab import drive\n",
        "drive.mount('/content/drive')"
      ],
      "metadata": {
        "id": "1zmzOcVG9K6y"
      },
      "execution_count": null,
      "outputs": []
    },
    {
      "cell_type": "markdown",
      "source": [],
      "metadata": {
        "id": "D2f1t7Q65I5W"
      }
    },
    {
      "cell_type": "code",
      "source": [
        "s = Stack()\n",
        "print(s.is_empty)\n",
        "s.push(4)\n",
        "s.push(\"cat\")"
      ],
      "metadata": {
        "colab": {
          "base_uri": "https://localhost:8080/"
        },
        "id": "66uQMERZ4zZY",
        "outputId": "47c38dd1-c368-4248-f678-839b81f2cca4"
      },
      "execution_count": 11,
      "outputs": [
        {
          "output_type": "stream",
          "name": "stdout",
          "text": [
            "<bound method Stack.is_empty of <__main__.Stack object at 0x7bafdd8d3d90>>\n"
          ]
        }
      ]
    },
    {
      "cell_type": "markdown",
      "source": [
        "lec 05 :"
      ],
      "metadata": {
        "id": "N6iw2ScB1TI2"
      }
    },
    {
      "cell_type": "code",
      "source": [
        "def par_checker(symbol_string):\n",
        "  s=stack()\n",
        "  balanced=True\n",
        "  index=0\n",
        "\n",
        "  while index <len(symbol_string) and balanced:\n",
        "    symbol_string[index]\n",
        "    if symbol == \"(\":\n",
        "      s.push(symbol)\n",
        "    else:\n",
        "      if s.is_empty():\n",
        "        balanced=False\n",
        "      else: s.pop()\n",
        "\n",
        "    index=index+1\n",
        "\n",
        "  if balanced and s.is_empty():\n",
        "    return True\n",
        "  else:\n",
        "    return False\n",
        "\n"
      ],
      "metadata": {
        "id": "ulK7OYF25sxn"
      },
      "execution_count": null,
      "outputs": []
    }
  ]
}